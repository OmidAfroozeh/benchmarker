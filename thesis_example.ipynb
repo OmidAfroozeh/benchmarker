{
 "cells": [
  {
   "cell_type": "code",
   "execution_count": 2,
   "id": "initial_id",
   "metadata": {
    "collapsed": true,
    "ExecuteTime": {
     "end_time": "2025-07-02T11:55:59.336014Z",
     "start_time": "2025-07-02T11:55:58.097682Z"
    }
   },
   "outputs": [],
   "source": [
    "import pandas as pd\n",
    "import numpy as np\n",
    "import random\n",
    "\n",
    "\n",
    "# Settings\n",
    "num_employees = 10_000\n",
    "num_departments = 100\n",
    "num_tickets = 1_000_000  # 1 million rows\n",
    "\n",
    "# Generate employee IDs\n",
    "employee_ids = [f\"E{str(i).zfill(5)}\" for i in range(1, num_employees + 1)]\n",
    "\n",
    "# Generate department names\n",
    "department_prefixes = [\n",
    "    \"Global\", \"Corporate\", \"Enterprise\", \"Advanced\", \"Workplace\",\n",
    "    \"Sales\", \"Customer\", \"IT\", \"Employee\", \"Internal\"\n",
    "]\n",
    "department_suffixes = [\n",
    "    \"Data Privacy and Compliance Office\", \"Strategy and Global Initiatives\",\n",
    "    \"Risk Management and Internal Controls\", \"Research and Future Tech\",\n",
    "    \"Culture and Employee Engagement\", \"Enablement - APAC Division\",\n",
    "    \"Insights and Brand Analytics\", \"Infrastructure & Reliability Team\",\n",
    "    \"Lifecycle Operations (HR Shared Services)\", \"Audit and Assurance Services\"\n",
    "]\n",
    "department_names = [\n",
    "    f\"{prefix} {suffix}\" for prefix in department_prefixes for suffix in department_suffixes\n",
    "][:num_departments]\n",
    "\n",
    "# Generate ticket table\n",
    "np.random.seed(42)\n",
    "ticket_ids = np.arange(1, num_tickets + 1)\n",
    "employee_choices = np.random.choice(employee_ids, size=num_tickets)\n",
    "department_choices = np.random.choice(department_names, size=num_tickets)\n",
    "\n",
    "df_tickets = pd.DataFrame({\n",
    "    \"ticket_id\": ticket_ids,\n",
    "    \"employee_id\": employee_choices,\n",
    "    \"department_name\": department_choices\n",
    "})\n",
    "# Update settings\n",
    "num_employees = 100\n",
    "num_departments = 10\n",
    "num_tickets = 1_000_000  # Keep dataset size large\n",
    "\n",
    "# Generate new employee IDs (numeric)\n",
    "employee_ids = list(range(1, num_employees + 1))\n",
    "\n",
    "# Use only the first 10 department names\n",
    "department_names = department_names[:num_departments]\n",
    "\n",
    "# Generate ticket data\n",
    "np.random.seed(42)\n",
    "ticket_ids = np.arange(1, num_tickets + 1)\n",
    "employee_choices = np.random.choice(employee_ids, size=num_tickets)\n",
    "department_choices = np.random.choice(department_names, size=num_tickets)\n",
    "\n",
    "df_tickets_small = pd.DataFrame({\n",
    "    \"ticket_id\": ticket_ids,\n",
    "    \"employee_id\": employee_choices,\n",
    "    \"department_name\": department_choices\n",
    "})\n",
    "\n",
    "df_tickets_small.to_csv(\"./blah.csv\")"
   ]
  },
  {
   "cell_type": "code",
   "execution_count": 3,
   "outputs": [
    {
     "data": {
      "text/plain": "<duckdb.duckdb.DuckDBPyConnection at 0x154a4e870>"
     },
     "execution_count": 3,
     "metadata": {},
     "output_type": "execute_result"
    }
   ],
   "source": [
    "#Connect to DuckDB (in-memory or on-disk)\n",
    "import duckdb\n",
    "con = duckdb.connect(\"tickets1.duckdb\")  # or just \":memory:\" for in-memory\n",
    "\n",
    "# Load the CSV file\n",
    "con.execute(\"\"\"\n",
    "    CREATE TABLE support_tickets AS\n",
    "    SELECT * FROM read_csv_auto('blah.csv')\n",
    "\"\"\")"
   ],
   "metadata": {
    "collapsed": false,
    "ExecuteTime": {
     "end_time": "2025-07-02T11:56:05.343358Z",
     "start_time": "2025-07-02T11:56:04.937927Z"
    }
   },
   "id": "6c963bf78dca1c8e"
  },
  {
   "cell_type": "code",
   "execution_count": 3,
   "outputs": [],
   "source": [
    "import duckdb\n",
    "import pandas as pd\n",
    "import numpy as np\n",
    "\n",
    "# Config\n",
    "num_employees = 100\n",
    "num_departments = 10\n",
    "num_tickets = 1_000_000\n",
    "np.random.seed(42)\n",
    "\n",
    "# Employee IDs: 1 to 100\n",
    "employee_ids = list(range(1, num_employees + 1))\n",
    "\n",
    "# 6 short department names (8–12 chars), 4 long (15–20 chars)\n",
    "short_depts = [\"HR Office\", \"IT Desk\", \"Sales Ops\", \"Legal Team\", \"Dev Squad\", \"UX Lab\"]\n",
    "long_depts = [\"Corporate Compliance\", \"Employee Development\", \"Infrastructure Ops\", \"Financial Accounting\"]\n",
    "department_names = short_depts[:6] + long_depts[:4]\n",
    "\n",
    "# Generate ticket data\n",
    "ticket_ids = np.arange(1, num_tickets + 1)\n",
    "employee_choices = np.random.choice(employee_ids, size=num_tickets)\n",
    "department_choices = np.random.choice(department_names, size=num_tickets)\n",
    "\n",
    "# Create DataFrame\n",
    "df_tickets = pd.DataFrame({\n",
    "    \"ticket_id\": ticket_ids,\n",
    "    \"employee_id\": employee_choices,\n",
    "    \"department_name\": department_choices\n",
    "})\n",
    "\n",
    "# Create DuckDB connection (in-memory)\n",
    "con = duckdb.connect(\"example.db\")\n",
    "\n",
    "# Load DataFrame into DuckDB\n",
    "con.register(\"df_tickets\", df_tickets)\n",
    "con.execute(\"CREATE TABLE support_tickets AS SELECT * FROM df_tickets\")\n",
    "\n",
    "# Run group-by query\n",
    "result = con.execute(\"\"\"\n",
    "    SELECT employee_id, department_name, COUNT(*) AS ticket_count\n",
    "    FROM support_tickets\n",
    "    GROUP BY employee_id, department_name\n",
    "    ORDER BY ticket_count DESC\n",
    "    LIMIT 100\n",
    "\"\"\").fetchdf()\n"
   ],
   "metadata": {
    "collapsed": false,
    "ExecuteTime": {
     "end_time": "2025-07-02T12:11:48.942999Z",
     "start_time": "2025-07-02T12:11:48.566534Z"
    }
   },
   "id": "a4b19530fe9261f5"
  },
  {
   "cell_type": "code",
   "execution_count": 4,
   "outputs": [
    {
     "data": {
      "text/plain": "    employee_id department_name  ticket_count\n0             2       Sales Ops          1116\n1            46         IT Desk          1101\n2            29       HR Office          1081\n3             5       Dev Squad          1074\n4            13       Dev Squad          1073\n..          ...             ...           ...\n95           72       HR Office          1043\n96           26       Dev Squad          1043\n97           47         IT Desk          1043\n98           38       HR Office          1043\n99           25         IT Desk          1042\n\n[100 rows x 3 columns]",
      "text/html": "<div>\n<style scoped>\n    .dataframe tbody tr th:only-of-type {\n        vertical-align: middle;\n    }\n\n    .dataframe tbody tr th {\n        vertical-align: top;\n    }\n\n    .dataframe thead th {\n        text-align: right;\n    }\n</style>\n<table border=\"1\" class=\"dataframe\">\n  <thead>\n    <tr style=\"text-align: right;\">\n      <th></th>\n      <th>employee_id</th>\n      <th>department_name</th>\n      <th>ticket_count</th>\n    </tr>\n  </thead>\n  <tbody>\n    <tr>\n      <th>0</th>\n      <td>2</td>\n      <td>Sales Ops</td>\n      <td>1116</td>\n    </tr>\n    <tr>\n      <th>1</th>\n      <td>46</td>\n      <td>IT Desk</td>\n      <td>1101</td>\n    </tr>\n    <tr>\n      <th>2</th>\n      <td>29</td>\n      <td>HR Office</td>\n      <td>1081</td>\n    </tr>\n    <tr>\n      <th>3</th>\n      <td>5</td>\n      <td>Dev Squad</td>\n      <td>1074</td>\n    </tr>\n    <tr>\n      <th>4</th>\n      <td>13</td>\n      <td>Dev Squad</td>\n      <td>1073</td>\n    </tr>\n    <tr>\n      <th>...</th>\n      <td>...</td>\n      <td>...</td>\n      <td>...</td>\n    </tr>\n    <tr>\n      <th>95</th>\n      <td>72</td>\n      <td>HR Office</td>\n      <td>1043</td>\n    </tr>\n    <tr>\n      <th>96</th>\n      <td>26</td>\n      <td>Dev Squad</td>\n      <td>1043</td>\n    </tr>\n    <tr>\n      <th>97</th>\n      <td>47</td>\n      <td>IT Desk</td>\n      <td>1043</td>\n    </tr>\n    <tr>\n      <th>98</th>\n      <td>38</td>\n      <td>HR Office</td>\n      <td>1043</td>\n    </tr>\n    <tr>\n      <th>99</th>\n      <td>25</td>\n      <td>IT Desk</td>\n      <td>1042</td>\n    </tr>\n  </tbody>\n</table>\n<p>100 rows × 3 columns</p>\n</div>"
     },
     "execution_count": 4,
     "metadata": {},
     "output_type": "execute_result"
    }
   ],
   "source": [
    "result"
   ],
   "metadata": {
    "collapsed": false,
    "ExecuteTime": {
     "end_time": "2025-07-02T12:11:49.761379Z",
     "start_time": "2025-07-02T12:11:49.754731Z"
    }
   },
   "id": "3d9cc658889fa0ec"
  },
  {
   "cell_type": "code",
   "execution_count": null,
   "outputs": [],
   "source": [],
   "metadata": {
    "collapsed": false
   },
   "id": "1578e15f8a2416f7"
  }
 ],
 "metadata": {
  "kernelspec": {
   "display_name": "Python 3",
   "language": "python",
   "name": "python3"
  },
  "language_info": {
   "codemirror_mode": {
    "name": "ipython",
    "version": 2
   },
   "file_extension": ".py",
   "mimetype": "text/x-python",
   "name": "python",
   "nbconvert_exporter": "python",
   "pygments_lexer": "ipython2",
   "version": "2.7.6"
  }
 },
 "nbformat": 4,
 "nbformat_minor": 5
}
