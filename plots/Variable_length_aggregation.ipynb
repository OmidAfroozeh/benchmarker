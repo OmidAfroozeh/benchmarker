{
 "cells": [
  {
   "cell_type": "code",
   "execution_count": 1,
   "id": "initial_id",
   "metadata": {
    "collapsed": true,
    "ExecuteTime": {
     "end_time": "2025-07-21T11:36:43.645930Z",
     "start_time": "2025-07-21T11:36:42.777699Z"
    }
   },
   "outputs": [
    {
     "name": "stdout",
     "output_type": "stream",
     "text": [
      "Saved plot for 'double_column_groupby' → thesis_plots/Variable_length_aggregate/double_column_groupby_b294e898.png\n",
      "\n",
      "Speed-up Report for Query 'double_column_groupby':\n",
      "  string_length=16: unified_string_dictionary is 1.38× faster than duckdb_latest_main (27.8% faster)\n",
      "  string_length=32: unified_string_dictionary is 1.69× faster than duckdb_latest_main (40.7% faster)\n",
      "  string_length=64: unified_string_dictionary is 2.26× faster than duckdb_latest_main (55.8% faster)\n",
      "  string_length=128: unified_string_dictionary is 3.58× faster than duckdb_latest_main (72.1% faster)\n",
      "  string_length=256: unified_string_dictionary is 5.75× faster than duckdb_latest_main (82.6% faster)\n"
     ]
    }
   ],
   "source": [
    "import os\n",
    "import uuid\n",
    "import ast\n",
    "import numpy as np\n",
    "import pandas as pd\n",
    "import matplotlib.pyplot as plt\n",
    "\n",
    "# Load & clean\n",
    "df = pd.read_csv(\n",
    "\"/Users/omid/PycharmProjects/benchmarker_omid/_output/results/USSR_vs_MAIN_n_unique200/2025-07-21-13-35-15/run.csv\"\n",
    ")\n",
    "\n",
    "df[\"data_config\"] = df[\"data_config\"].apply(ast.literal_eval)\n",
    "config_df = pd.json_normalize(df[\"data_config\"])\n",
    "df = pd.concat([df.drop(columns=[\"data_config\"]), config_df], axis=1)\n",
    "\n",
    "# Prepare output directory\n",
    "output_dir = \"thesis_plots/Variable_length_aggregate\"\n",
    "os.makedirs(output_dir, exist_ok=True)\n",
    "\n",
    "for query in df[\"query\"].unique():\n",
    "    sub = df[df[\"query\"] == query]\n",
    "\n",
    "    pivot = sub.pivot_table(\n",
    "        index=\"string_length\",\n",
    "        columns=\"system_version\",\n",
    "        values=\"avg_runtime\",\n",
    "        aggfunc=\"mean\"\n",
    "    )\n",
    "\n",
    "    sorted_idx = sorted(pivot.index, key=int)\n",
    "    pivot = pivot.loc[sorted_idx]\n",
    "\n",
    "    # Create plot\n",
    "    fig, ax = plt.subplots(figsize=(10, 6))\n",
    "\n",
    "    n_versions = len(pivot.columns)\n",
    "    width = 0.8 / n_versions\n",
    "    x = np.arange(len(pivot.index))\n",
    "\n",
    "    for i, ver in enumerate(pivot.columns):\n",
    "        ax.bar(x + i * width, pivot[ver].values, width, label=ver)\n",
    "\n",
    "    center_offset = (n_versions - 1) * width / 2\n",
    "    ax.set_xticks(x + center_offset)\n",
    "    ax.set_xticklabels(pivot.index, ha=\"center\")\n",
    "\n",
    "    ax.set_xlabel(\"String Length\")\n",
    "    ax.set_ylabel(\"Average Runtime (s)\")\n",
    "    ax.legend(title=\"System Version\", loc=\"upper left\")\n",
    "    plt.subplots_adjust(bottom=0.25, right=0.85)\n",
    "\n",
    "    # Save plot\n",
    "    random_id = uuid.uuid4().hex[:8]\n",
    "    safe_query = query.replace(\" \", \"_\")\n",
    "    fname = f\"{safe_query}_{random_id}.png\"\n",
    "    path = os.path.join(output_dir, fname)\n",
    "    fig.savefig(path, dpi=300, bbox_inches=\"tight\", pad_inches=0.1)\n",
    "    plt.close(fig)\n",
    "\n",
    "    print(f\"Saved plot for '{query}' → {path}\")\n",
    "\n",
    "    # ---- Speed-up Reporting ----\n",
    "    print(f\"\\nSpeed-up Report for Query '{query}':\")\n",
    "    for string_length, row in pivot.iterrows():\n",
    "        if row.count() == 2:\n",
    "            versions = row.index.tolist()\n",
    "            times = row.values.tolist()\n",
    "\n",
    "            if times[0] > times[1]:\n",
    "                speedup = times[0] / times[1]\n",
    "                percent = (times[0] - times[1]) / times[0] * 100\n",
    "                print(f\"  string_length={string_length}: {versions[1]} is {speedup:.2f}× faster than {versions[0]} ({percent:.1f}% faster)\")\n",
    "            else:\n",
    "                speedup = times[1] / times[0]\n",
    "                percent = (times[1] - times[0]) / times[1] * 100\n",
    "                print(f\"  string_length={string_length}: {versions[0]} is {speedup:.2f}× faster than {versions[1]} ({percent:.1f}% faster)\")\n",
    "        else:\n",
    "            print(f\"  string_length={string_length}: Skipped speed-up (need exactly 2 systems)\")\n"
   ]
  },
  {
   "cell_type": "code",
   "execution_count": null,
   "outputs": [],
   "source": [],
   "metadata": {
    "collapsed": false
   },
   "id": "66c897392a75addb"
  }
 ],
 "metadata": {
  "kernelspec": {
   "display_name": "Python 3",
   "language": "python",
   "name": "python3"
  },
  "language_info": {
   "codemirror_mode": {
    "name": "ipython",
    "version": 2
   },
   "file_extension": ".py",
   "mimetype": "text/x-python",
   "name": "python",
   "nbconvert_exporter": "python",
   "pygments_lexer": "ipython2",
   "version": "2.7.6"
  }
 },
 "nbformat": 4,
 "nbformat_minor": 5
}
