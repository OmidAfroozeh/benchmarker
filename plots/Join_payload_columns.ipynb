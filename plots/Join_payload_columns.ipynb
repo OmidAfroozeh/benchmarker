{
 "cells": [
  {
   "cell_type": "code",
   "execution_count": 1,
   "id": "initial_id",
   "metadata": {
    "collapsed": true,
    "ExecuteTime": {
     "end_time": "2025-07-04T08:52:50.821790Z",
     "start_time": "2025-07-04T08:52:49.983502Z"
    }
   },
   "outputs": [
    {
     "name": "stdout",
     "output_type": "stream",
     "text": [
      "Saved simple plot for 'join_on_integer_keys' → thesis_plots/Simple_benchmarks_no_grouping/join_on_integer_keys_comparison_1f8ecdbc.png\n",
      "Saved simple plot for 'join_on_integer_keys_limited_result' → thesis_plots/Simple_benchmarks_no_grouping/join_on_integer_keys_limited_result_comparison_981afd7b.png\n"
     ]
    }
   ],
   "source": [
    "import os\n",
    "import uuid\n",
    "import ast\n",
    "import pandas as pd\n",
    "import matplotlib.pyplot as plt\n",
    "\n",
    "# Load the dataset\n",
    "df = pd.read_csv(\"/Users/omid/PycharmProjects/benchmarker_omid/_output/results/USSR_vs_baseline_zipf_grid_two_tables/2025-07-03-09-14-31/run.csv\")  # Replace with your actual file path\n",
    "\n",
    "# Parse the 'data_config' column to allow future extensions\n",
    "df[\"data_config\"] = df[\"data_config\"].apply(ast.literal_eval)\n",
    "\n",
    "# Output directory\n",
    "output_dir = \"thesis_plots/Simple_benchmarks_no_grouping\"\n",
    "os.makedirs(output_dir, exist_ok=True)\n",
    "\n",
    "# Plot per query (no grouping by string_length or n_unique)\n",
    "for query in df[\"query\"].unique():\n",
    "    sub = df[df[\"query\"] == query]\n",
    "\n",
    "    # Prepare data\n",
    "    system_versions = sub[\"system_version\"].tolist()\n",
    "    avg_runtimes = sub[\"avg_runtime\"].tolist()\n",
    "\n",
    "    fig, ax = plt.subplots(figsize=(8, 5))\n",
    "    x = range(len(system_versions))\n",
    "\n",
    "    ax.bar(x, avg_runtimes, width=0.6, tick_label=system_versions)\n",
    "\n",
    "    ax.set_xlabel(\"System Version\")\n",
    "    ax.set_ylabel(\"Average Runtime (s)\")\n",
    "    ax.set_title(f\"Avg Runtime (Query: {query})\")\n",
    "\n",
    "    # Optional: annotate bars\n",
    "    for i, val in enumerate(avg_runtimes):\n",
    "        ax.text(i, val + 0.005, f\"{val:.3f}\", ha='center', va='bottom')\n",
    "\n",
    "    # Save figure\n",
    "    random_id = uuid.uuid4().hex[:8]\n",
    "    safe_query = query.replace(\" \", \"_\")\n",
    "    fname = f\"{safe_query}_comparison_{random_id}.png\"\n",
    "    path = os.path.join(output_dir, fname)\n",
    "    fig.savefig(path, dpi=300, bbox_inches=\"tight\", pad_inches=0.1)\n",
    "    plt.close(fig)\n",
    "\n",
    "    print(f\"Saved simple plot for '{query}' → {path}\")\n"
   ]
  },
  {
   "cell_type": "code",
   "execution_count": 1,
   "outputs": [
    {
     "name": "stdout",
     "output_type": "stream",
     "text": [
      "Saved simple plot for 'tpch16' → thesis_plots/Simple_benchmarks_no_grouping/tpch16_comparison_67c1154e.png\n",
      "[tpch16] Skipped speed-up computation: expected exactly 2 systems.\n"
     ]
    }
   ],
   "source": [
    "import os\n",
    "import uuid\n",
    "import ast\n",
    "import pandas as pd\n",
    "import matplotlib.pyplot as plt\n",
    "\n",
    "# Load the dataset\n",
    "df = pd.read_csv(\"/Users/omid/PycharmProjects/benchmarker_omid/_output/results/USSR_vs_baseline_tpch_sf30/2025-07-04-13-32-45/run.csv\")  # Replace with your actual file path\n",
    "\n",
    "# Parse the 'data_config' column\n",
    "df[\"data_config\"] = df[\"data_config\"].apply(ast.literal_eval)\n",
    "\n",
    "# Output directory\n",
    "output_dir = \"thesis_plots/Simple_benchmarks_no_grouping\"\n",
    "os.makedirs(output_dir, exist_ok=True)\n",
    "\n",
    "# Plot per query\n",
    "for query in df[\"query\"].unique():\n",
    "    sub = df[df[\"query\"] == query]\n",
    "\n",
    "    # Sort to ensure consistent order\n",
    "    sub = sub.sort_values(\"system_version\")\n",
    "\n",
    "    # Extract systems and runtimes\n",
    "    system_versions = sub[\"system_version\"].tolist()\n",
    "    avg_runtimes = sub[\"avg_runtime\"].tolist()\n",
    "\n",
    "    fig, ax = plt.subplots(figsize=(8, 5))\n",
    "    x = range(len(system_versions))\n",
    "\n",
    "    ax.bar(x, avg_runtimes, width=0.6, tick_label=system_versions)\n",
    "\n",
    "    ax.set_xlabel(\"System Version\")\n",
    "    ax.set_ylabel(\"Average Runtime (s)\")\n",
    "    ax.set_title(f\"Avg Runtime (Query: {query})\")\n",
    "\n",
    "    for i, val in enumerate(avg_runtimes):\n",
    "        ax.text(i, val + 0.005, f\"{val:.3f}\", ha='center', va='bottom')\n",
    "\n",
    "    # Save figure\n",
    "    random_id = uuid.uuid4().hex[:8]\n",
    "    safe_query = query.replace(\" \", \"_\")\n",
    "    fname = f\"{safe_query}_comparison_{random_id}.png\"\n",
    "    path = os.path.join(output_dir, fname)\n",
    "    fig.savefig(path, dpi=300, bbox_inches=\"tight\", pad_inches=0.1)\n",
    "    plt.close(fig)\n",
    "\n",
    "    print(f\"Saved simple plot for '{query}' → {path}\")\n",
    "\n",
    "    # Compute and print speed-up (assumes 2 systems only)\n",
    "    if len(avg_runtimes) == 2:\n",
    "        rt0, rt1 = avg_runtimes\n",
    "        name0, name1 = system_versions\n",
    "\n",
    "        if rt0 > rt1:\n",
    "            speedup = rt0 / rt1\n",
    "            percent = (rt0 - rt1) / rt0 * 100\n",
    "            print(f\"[{query}] {name1} is {speedup:.2f}× faster than {name0} ({percent:.1f}% faster)\")\n",
    "        else:\n",
    "            speedup = rt1 / rt0\n",
    "            percent = (rt1 - rt0) / rt1 * 100\n",
    "            print(f\"[{query}] {name0} is {speedup:.2f}× faster than {name1} ({percent:.1f}% faster)\")\n",
    "    else:\n",
    "        print(f\"[{query}] Skipped speed-up computation: expected exactly 2 systems.\")\n",
    "\n"
   ],
   "metadata": {
    "collapsed": false,
    "ExecuteTime": {
     "end_time": "2025-07-04T11:36:53.799289Z",
     "start_time": "2025-07-04T11:36:53.223504Z"
    }
   },
   "id": "980e21736d1ca405"
  },
  {
   "cell_type": "code",
   "execution_count": null,
   "outputs": [],
   "source": [],
   "metadata": {
    "collapsed": false
   },
   "id": "87384217e6412082"
  }
 ],
 "metadata": {
  "kernelspec": {
   "display_name": "Python 3",
   "language": "python",
   "name": "python3"
  },
  "language_info": {
   "codemirror_mode": {
    "name": "ipython",
    "version": 2
   },
   "file_extension": ".py",
   "mimetype": "text/x-python",
   "name": "python",
   "nbconvert_exporter": "python",
   "pygments_lexer": "ipython2",
   "version": "2.7.6"
  }
 },
 "nbformat": 4,
 "nbformat_minor": 5
}
