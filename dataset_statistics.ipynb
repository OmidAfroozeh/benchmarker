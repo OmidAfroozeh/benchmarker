{
 "cells": [
  {
   "cell_type": "markdown",
   "source": [
    "# Overview\n",
    "contains simple queries to verify the statistics of the synthetic dataset generated\n"
   ],
   "metadata": {
    "collapsed": false
   },
   "id": "7f935d03a207c68"
  },
  {
   "cell_type": "code",
   "execution_count": null,
   "id": "initial_id",
   "metadata": {
    "collapsed": true
   },
   "outputs": [],
   "source": [
    "import duckdb\n",
    "import pandas as pd\n",
    "import matplotlib.pyplot as plt\n",
    "# Connect to your DuckDB database\n",
    "dbpath = \"/Users/omid/PycharmProjects/benchmarker_omid/_output/data/varchars_grp_size_zipf=1.0_nrows=20.0M_uniques=1000000_len=32/varchars-grp-size-1000000.db\"\n",
    "con = duckdb.connect(dbpath)\n",
    "\n",
    "# Load your table\n",
    "table_name = \"varchars\""
   ]
  },
  {
   "cell_type": "markdown",
   "source": [
    "## Basic statistics\n",
    "Number of rows and columns\n",
    "Unique cardinality of each column\n",
    "Min, Max, Avg length of each column "
   ],
   "metadata": {
    "collapsed": false
   },
   "id": "c34634ab3a6ff8c5"
  },
  {
   "cell_type": "code",
   "execution_count": null,
   "outputs": [],
   "source": [
    "num_rows = con.execute(f\"SELECT COUNT(*) FROM {table_name}\").fetchone()[0]\n",
    "num_columns = len(con.execute(f\"PRAGMA table_info('{table_name}')\").fetchall())\n",
    "\n",
    "print(f\"Number of rows: {num_rows}\")\n",
    "print(f\"Number of columns: {num_columns}\\n\")\n",
    "\n",
    "columns = con.execute(f\"PRAGMA table_info('{table_name}')\").df()['name'].tolist()\n",
    "\n",
    "col_stats = []\n",
    "\n",
    "for col in columns:\n",
    "    query = f\"\"\"\n",
    "    SELECT \n",
    "        COUNT(DISTINCT {col}) AS unique_count,\n",
    "        AVG(LENGTH({col})) AS avg_length,\n",
    "        MIN(LENGTH({col})) AS min_length,\n",
    "        MAX(LENGTH({col})) AS max_length\n",
    "    FROM {table_name}\n",
    "    WHERE {col} IS NOT NULL\n",
    "    \"\"\"\n",
    "    result = con.execute(query).fetchdf()\n",
    "    result.insert(0, \"column\", col)\n",
    "    col_stats.append(result)\n",
    "\n",
    "import pandas as pd\n",
    "stats_df = pd.concat(col_stats, ignore_index=True)\n",
    "\n",
    "print(\"Column Statistics:\\n\", stats_df, \"\\n\")"
   ],
   "metadata": {
    "collapsed": false
   },
   "id": "e3e44bb703200ee6"
  },
  {
   "cell_type": "markdown",
   "source": [
    "## Frequency distribution\n",
    "Plots the top k most frequent values. \n",
    "It shows the distribution of values within the dataset"
   ],
   "metadata": {
    "collapsed": false
   },
   "id": "394578b20a695f61"
  },
  {
   "cell_type": "code",
   "execution_count": null,
   "outputs": [],
   "source": [
    "top_k = 10000\n",
    "\n",
    "# Get all column names\n",
    "columns = con.execute(f\"PRAGMA table_info('{table_name}')\").fetchdf()[\"name\"].tolist()\n",
    "\n",
    "# Loop over each column\n",
    "for col in columns:\n",
    "    print(f\"Processing column: {col}\")\n",
    "    \n",
    "    query = f\"\"\"\n",
    "        SELECT {col},COUNT(*) AS freq\n",
    "        FROM {table_name}\n",
    "        WHERE {col} IS NOT NULL\n",
    "        GROUP BY {col}\n",
    "        ORDER BY freq DESC\n",
    "        LIMIT {top_k}\n",
    "    \"\"\"\n",
    "\n",
    "    freq_df = con.execute(query).fetchdf()\n",
    "\n",
    "    if freq_df.empty:\n",
    "        print(f\"  Skipping column '{col}' (no non-null values)\")\n",
    "        continue\n",
    "\n",
    "    # Plot rank-frequency curve\n",
    "    plt.figure(figsize=(10, 4))\n",
    "    plt.plot(range(1, len(freq_df) + 1), freq_df['freq'])\n",
    "    plt.yscale('log')  # Helps with skewed frequencies\n",
    "    plt.title(f\"Top {top_k} Value Frequencies in '{col}'\")\n",
    "    plt.xlabel(\"Rank (1 = Most Frequent)\")\n",
    "    plt.ylabel(\"Frequency (log scale)\")\n",
    "    plt.tight_layout()\n",
    "    plt.show()\n",
    "    \n",
    "    print(freq_df.head(100))\n",
    "    freq_df\n",
    "    "
   ],
   "metadata": {
    "collapsed": false
   },
   "id": "65def0d49bf7da45"
  },
  {
   "cell_type": "markdown",
   "source": [
    "## Unique values within each column\n",
    "Double checking that each column contain unique strings not available in other columns"
   ],
   "metadata": {
    "collapsed": false
   },
   "id": "e151c2ae5a0d43ad"
  },
  {
   "cell_type": "code",
   "execution_count": null,
   "outputs": [],
   "source": [
    "columns = con.execute(f\"PRAGMA table_info('{table_name}')\").fetchdf()[\"name\"].tolist()\n",
    "\n",
    "# Safety: drop the temp table if it exists\n",
    "con.execute(\"DROP TABLE IF EXISTS unique_strs\")\n",
    "\n",
    "# Create a new table for accumulating unique strings\n",
    "con.execute(\"CREATE TABLE unique_strs (value TEXT)\")\n",
    "\n",
    "# Insert DISTINCT values from each column (skip NULLs)\n",
    "for col in columns:\n",
    "    print(f\"Inserting unique values from column: {col}\")\n",
    "    con.execute(f\"\"\"\n",
    "        INSERT INTO unique_strs\n",
    "        SELECT DISTINCT {col}\n",
    "        FROM {table_name}\n",
    "        WHERE {col} IS NOT NULL\n",
    "    \"\"\")\n",
    "\n",
    "# Check for duplicates — values that appeared in more than one column\n",
    "dup_query = \"\"\"\n",
    "    SELECT value, COUNT(*) AS occurrences\n",
    "    FROM unique_strs\n",
    "    GROUP BY value\n",
    "    HAVING COUNT(*) > 1\n",
    "    ORDER BY occurrences DESC\n",
    "    LIMIT 100\n",
    "\"\"\"\n",
    "\n",
    "duplicates_df = con.execute(dup_query).fetchdf()\n",
    "duplicates_df"
   ],
   "metadata": {
    "collapsed": false
   },
   "id": "6f6ab51a942a452e"
  },
  {
   "cell_type": "markdown",
   "source": [
    "## Compression Analysis \n",
    "The following script will analyze the number of segments related to each column, the different types of compression used for those columns. "
   ],
   "metadata": {
    "collapsed": false
   },
   "id": "15eadfe541fd5be2"
  },
  {
   "cell_type": "code",
   "execution_count": null,
   "outputs": [],
   "source": [
    "# Get the storage_info table\n",
    "df = con.execute(f\"select * from pragma_storage_info('{table_name}') where segment_type = 'VARCHAR'\").fetch_df()\n"
   ],
   "metadata": {
    "collapsed": false
   },
   "id": "f5cd3dda0ce1c96"
  },
  {
   "cell_type": "code",
   "execution_count": null,
   "outputs": [],
   "source": [
    "# Get the storage_info table\n",
    "df = con.execute(f\"select * from pragma_storage_info('{table_name}') where segment_type = 'VARCHAR'\").fetch_df()\n",
    "\n",
    "# Group and aggregate the data\n",
    "summary_df = (\n",
    "    df.groupby(['column_name', 'compression'], as_index=False)\n",
    "    .agg(\n",
    "        total_count=('count', 'sum'),\n",
    "        num_segments=('count', 'count'),\n",
    "        avg_count=('count', 'mean')\n",
    "    )\n",
    "    .sort_values(['column_name', 'total_count'], ascending=[True, False])\n",
    ")\n",
    "\n",
    "# Display the result\n",
    "print(summary_df)\n"
   ],
   "metadata": {
    "collapsed": false
   },
   "id": "4638d2c1bd7de087"
  },
  {
   "cell_type": "code",
   "execution_count": null,
   "outputs": [],
   "source": [],
   "metadata": {
    "collapsed": false
   },
   "id": "bb8409b0bb19b68"
  }
 ],
 "metadata": {
  "kernelspec": {
   "display_name": "Python 3",
   "language": "python",
   "name": "python3"
  },
  "language_info": {
   "codemirror_mode": {
    "name": "ipython",
    "version": 2
   },
   "file_extension": ".py",
   "mimetype": "text/x-python",
   "name": "python",
   "nbconvert_exporter": "python",
   "pygments_lexer": "ipython2",
   "version": "2.7.6"
  }
 },
 "nbformat": 4,
 "nbformat_minor": 5
}
